{
 "cells": [
  {
   "cell_type": "code",
   "execution_count": 3,
   "id": "6a202c78-ae42-4549-af1a-2ca120f08ec0",
   "metadata": {},
   "outputs": [
    {
     "data": {
      "text/html": [
       "<div>\n",
       "<style scoped>\n",
       "    .dataframe tbody tr th:only-of-type {\n",
       "        vertical-align: middle;\n",
       "    }\n",
       "\n",
       "    .dataframe tbody tr th {\n",
       "        vertical-align: top;\n",
       "    }\n",
       "\n",
       "    .dataframe thead th {\n",
       "        text-align: right;\n",
       "    }\n",
       "</style>\n",
       "<table border=\"1\" class=\"dataframe\">\n",
       "  <thead>\n",
       "    <tr style=\"text-align: right;\">\n",
       "      <th></th>\n",
       "      <th>id</th>\n",
       "      <th>name</th>\n",
       "      <th>themegroup</th>\n",
       "      <th>theme</th>\n",
       "      <th>subtheme</th>\n",
       "      <th>year</th>\n",
       "      <th>pieces</th>\n",
       "      <th>minifigs</th>\n",
       "      <th>package</th>\n",
       "      <th>retail_price</th>\n",
       "    </tr>\n",
       "  </thead>\n",
       "  <tbody>\n",
       "    <tr>\n",
       "      <th>0</th>\n",
       "      <td>100STORES-1</td>\n",
       "      <td>100 Stores minifigure</td>\n",
       "      <td>Miscellaneous</td>\n",
       "      <td>Promotional</td>\n",
       "      <td>LEGO brand stores</td>\n",
       "      <td>2019.0</td>\n",
       "      <td>NaN</td>\n",
       "      <td>0</td>\n",
       "      <td>Blister pack</td>\n",
       "      <td>NaN</td>\n",
       "    </tr>\n",
       "    <tr>\n",
       "      <th>1</th>\n",
       "      <td>10264-1</td>\n",
       "      <td>Corner Garage</td>\n",
       "      <td>Model making</td>\n",
       "      <td>Creator Expert</td>\n",
       "      <td>Modular Buildings</td>\n",
       "      <td>2019.0</td>\n",
       "      <td>2569.0</td>\n",
       "      <td>6</td>\n",
       "      <td>Box</td>\n",
       "      <td>199.99</td>\n",
       "    </tr>\n",
       "    <tr>\n",
       "      <th>2</th>\n",
       "      <td>10265-1</td>\n",
       "      <td>Ford Mustang</td>\n",
       "      <td>Model making</td>\n",
       "      <td>Creator Expert</td>\n",
       "      <td>Vehicles</td>\n",
       "      <td>2019.0</td>\n",
       "      <td>1471.0</td>\n",
       "      <td>0</td>\n",
       "      <td>Box</td>\n",
       "      <td>149.99</td>\n",
       "    </tr>\n",
       "    <tr>\n",
       "      <th>3</th>\n",
       "      <td>10766-1</td>\n",
       "      <td>Woody &amp; RC</td>\n",
       "      <td>Licensed</td>\n",
       "      <td>Toy Story</td>\n",
       "      <td>Toy Story 4</td>\n",
       "      <td>2019.0</td>\n",
       "      <td>69.0</td>\n",
       "      <td>0</td>\n",
       "      <td>Box</td>\n",
       "      <td>9.99</td>\n",
       "    </tr>\n",
       "    <tr>\n",
       "      <th>4</th>\n",
       "      <td>10769-1</td>\n",
       "      <td>RV Vacation</td>\n",
       "      <td>Licensed</td>\n",
       "      <td>Toy Story</td>\n",
       "      <td>Toy Story 4</td>\n",
       "      <td>2019.0</td>\n",
       "      <td>178.0</td>\n",
       "      <td>0</td>\n",
       "      <td>Box</td>\n",
       "      <td>34.99</td>\n",
       "    </tr>\n",
       "  </tbody>\n",
       "</table>\n",
       "</div>"
      ],
      "text/plain": [
       "            id                   name     themegroup           theme  \\\n",
       "0  100STORES-1  100 Stores minifigure  Miscellaneous     Promotional   \n",
       "1      10264-1          Corner Garage   Model making  Creator Expert   \n",
       "2      10265-1           Ford Mustang   Model making  Creator Expert   \n",
       "3      10766-1             Woody & RC       Licensed       Toy Story   \n",
       "4      10769-1            RV Vacation       Licensed       Toy Story   \n",
       "\n",
       "            subtheme    year  pieces  minifigs       package  retail_price  \n",
       "0  LEGO brand stores  2019.0     NaN         0  Blister pack           NaN  \n",
       "1  Modular Buildings  2019.0  2569.0         6           Box        199.99  \n",
       "2           Vehicles  2019.0  1471.0         0           Box        149.99  \n",
       "3        Toy Story 4  2019.0    69.0         0           Box          9.99  \n",
       "4        Toy Story 4  2019.0   178.0         0           Box         34.99  "
      ]
     },
     "execution_count": 3,
     "metadata": {},
     "output_type": "execute_result"
    }
   ],
   "source": [
    "import pandas as pd\n",
    "\n",
    "data = pd.read_csv('lego (1).csv')\n",
    "\n",
    "data.head()"
   ]
  },
  {
   "cell_type": "code",
   "execution_count": 5,
   "id": "a526f9bf-7f13-4d50-beb2-25bdf09e9238",
   "metadata": {},
   "outputs": [
    {
     "name": "stdout",
     "output_type": "stream",
     "text": [
      "            id                   name     themegroup           theme  \\\n",
      "0  100STORES-1  100 Stores minifigure  Miscellaneous     Promotional   \n",
      "1      10264-1          Corner Garage   Model making  Creator Expert   \n",
      "2      10265-1           Ford Mustang   Model making  Creator Expert   \n",
      "3      10766-1             Woody & RC       Licensed       Toy Story   \n",
      "4      10769-1            RV Vacation       Licensed       Toy Story   \n",
      "\n",
      "            subtheme    year  pieces  minifigs       package  retail_price  \n",
      "0  LEGO brand stores  2019.0     NaN         0  Blister pack           NaN  \n",
      "1  Modular Buildings  2019.0  2569.0         6           Box        199.99  \n",
      "2           Vehicles  2019.0  1471.0         0           Box        149.99  \n",
      "3        Toy Story 4  2019.0    69.0         0           Box          9.99  \n",
      "4        Toy Story 4  2019.0   178.0         0           Box         34.99  \n",
      "<class 'pandas.core.frame.DataFrame'>\n",
      "RangeIndex: 12214 entries, 0 to 12213\n",
      "Data columns (total 10 columns):\n",
      " #   Column        Non-Null Count  Dtype  \n",
      "---  ------        --------------  -----  \n",
      " 0   id            12214 non-null  object \n",
      " 1   name          12214 non-null  object \n",
      " 2   themegroup    12214 non-null  object \n",
      " 3   theme         12213 non-null  object \n",
      " 4   subtheme      8451 non-null   object \n",
      " 5   year          12213 non-null  float64\n",
      " 6   pieces        11125 non-null  float64\n",
      " 7   minifigs      12214 non-null  int64  \n",
      " 8   package       8675 non-null   object \n",
      " 9   retail_price  7849 non-null   float64\n",
      "dtypes: float64(3), int64(1), object(6)\n",
      "memory usage: 954.3+ KB\n",
      "None\n",
      "               year        pieces      minifigs  retail_price\n",
      "count  12213.000000  11125.000000  12214.000000   7849.000000\n",
      "mean    2003.202817    201.429124      1.381775     28.547607\n",
      "std       13.683488    382.014126      2.405519     41.036308\n",
      "min     1955.000000      0.000000      0.000000      0.000000\n",
      "25%     1997.000000     25.000000      0.000000      6.000000\n",
      "50%     2007.000000     70.000000      1.000000     14.990000\n",
      "75%     2014.000000    223.000000      2.000000     34.990000\n",
      "max     2019.000000  10004.000000     36.000000    799.990000\n"
     ]
    }
   ],
   "source": [
    "print(data.head())\n",
    "\n",
    "print(data.info())\n",
    "\n",
    "print(data.describe())\n"
   ]
  },
  {
   "cell_type": "code",
   "execution_count": 7,
   "id": "a1888479-00e0-479d-94a0-3149944a2449",
   "metadata": {},
   "outputs": [
    {
     "name": "stdout",
     "output_type": "stream",
     "text": [
      "id                 0\n",
      "name               0\n",
      "themegroup         0\n",
      "theme              1\n",
      "subtheme        3763\n",
      "year               1\n",
      "pieces          1089\n",
      "minifigs           0\n",
      "package         3539\n",
      "retail_price    4365\n",
      "dtype: int64\n"
     ]
    }
   ],
   "source": [
    "print(data.isnull().sum())\n",
    "\n",
    "data_cleaned = data.dropna()\n",
    "\n",
    "data_filled = data.fillna(0)"
   ]
  },
  {
   "cell_type": "code",
   "execution_count": 9,
   "id": "07436672-b0be-46aa-866f-fb1bf58dd934",
   "metadata": {},
   "outputs": [],
   "source": [
    "data_no_duplicates = data.drop_duplicates()"
   ]
  },
  {
   "cell_type": "code",
   "execution_count": 13,
   "id": "c8c743d9-6ead-490a-b8b8-3c31e6a86d6c",
   "metadata": {},
   "outputs": [
    {
     "name": "stdout",
     "output_type": "stream",
     "text": [
      "Index(['id', 'name', 'themegroup', 'theme', 'subtheme', 'year', 'pieces',\n",
      "       'minifigs', 'package', 'retail_price'],\n",
      "      dtype='object')\n"
     ]
    }
   ],
   "source": [
    "print(data.columns)"
   ]
  },
  {
   "cell_type": "code",
   "execution_count": 15,
   "id": "a1ec1615-2388-43e0-bca4-6bd59226f73f",
   "metadata": {},
   "outputs": [
    {
     "name": "stdout",
     "output_type": "stream",
     "text": [
      "Index(['id', 'name', 'themegroup', 'theme', 'subtheme', 'year', 'pieces',\n",
      "       'minifigs', 'package', 'retail_price'],\n",
      "      dtype='object')\n"
     ]
    }
   ],
   "source": [
    "data.columns = data.columns.str.strip()\n",
    "\n",
    "print(data.columns)\n"
   ]
  },
  {
   "cell_type": "code",
   "execution_count": 19,
   "id": "3ede5aaa-ef19-4450-bf27-25556f08c6fe",
   "metadata": {},
   "outputs": [
    {
     "name": "stdout",
     "output_type": "stream",
     "text": [
      "Index(['id', 'name', 'themegroup', 'theme', 'subtheme', 'year', 'pieces',\n",
      "       'minifigs', 'package', 'retail_price'],\n",
      "      dtype='object')\n"
     ]
    }
   ],
   "source": [
    "print(data.columns)"
   ]
  },
  {
   "cell_type": "code",
   "execution_count": 21,
   "id": "1284398c-132e-4954-bde8-3192609b9bc6",
   "metadata": {},
   "outputs": [
    {
     "name": "stdout",
     "output_type": "stream",
     "text": [
      "139\n",
      "theme\n",
      "Duplo                        1050\n",
      "Town                          640\n",
      "Star Wars                     631\n",
      "Gear                          585\n",
      "Collectable Minifigures       565\n",
      "                             ... \n",
      "Avatar The Last Airbender       2\n",
      "Primo                           2\n",
      "The Simpsons                    2\n",
      "Boost                           1\n",
      "CITY                            1\n",
      "Name: count, Length: 139, dtype: int64\n"
     ]
    }
   ],
   "source": [
    "print(data['theme'].nunique())\n",
    "\n",
    "print(data['theme'].value_counts())"
   ]
  },
  {
   "cell_type": "code",
   "execution_count": 23,
   "id": "5ff3b55d-6fee-4e9d-919d-69c29d04c448",
   "metadata": {},
   "outputs": [
    {
     "name": "stdout",
     "output_type": "stream",
     "text": [
      "The average retail price of LEGO sets is: $28.55\n"
     ]
    }
   ],
   "source": [
    "average_price = data['retail_price'].mean()\n",
    "print(f\"The average retail price of LEGO sets is: ${average_price:.2f}\")\n"
   ]
  },
  {
   "cell_type": "code",
   "execution_count": 25,
   "id": "07bb82bf-e471-45ef-94bb-6cc9964c4f9f",
   "metadata": {},
   "outputs": [
    {
     "name": "stdout",
     "output_type": "stream",
     "text": [
      "            id                   name     themegroup           theme  \\\n",
      "0  100STORES-1  100 Stores minifigure  Miscellaneous     Promotional   \n",
      "1      10264-1          Corner Garage   Model making  Creator Expert   \n",
      "2      10265-1           Ford Mustang   Model making  Creator Expert   \n",
      "3      10766-1             Woody & RC       Licensed       Toy Story   \n",
      "4      10769-1            RV Vacation       Licensed       Toy Story   \n",
      "\n",
      "            subtheme    year  pieces  minifigs       package  retail_price  \n",
      "0  LEGO brand stores  2019.0     NaN         0  Blister pack           NaN  \n",
      "1  Modular Buildings  2019.0  2569.0         6           Box        199.99  \n",
      "2           Vehicles  2019.0  1471.0         0           Box        149.99  \n",
      "3        Toy Story 4  2019.0    69.0         0           Box          9.99  \n",
      "4        Toy Story 4  2019.0   178.0         0           Box         34.99  \n"
     ]
    }
   ],
   "source": [
    "filtered_data = data[(data['year'] >= 2010) & (data['year'] <= 2020)]\n",
    "print(filtered_data.head())"
   ]
  },
  {
   "cell_type": "code",
   "execution_count": 27,
   "id": "02bdec3b-c824-4fbd-bd86-0ecbb2b6915a",
   "metadata": {},
   "outputs": [
    {
     "name": "stdout",
     "output_type": "stream",
     "text": [
      "theme\n",
      "4 Juniors          17.222222\n",
      "Action Wheelers    26.444444\n",
      "Adventurers        19.320000\n",
      "Agents             42.297692\n",
      "Alpha Team         20.000000\n",
      "                     ...    \n",
      "Wizarding World    86.545556\n",
      "World City         35.857143\n",
      "World Racers       32.240000\n",
      "Xtra                3.990000\n",
      "Znap               16.833333\n",
      "Name: retail_price, Length: 139, dtype: float64\n"
     ]
    }
   ],
   "source": [
    "average_price_by_theme = data.groupby('theme')['retail_price'].mean()\n",
    "print(average_price_by_theme)"
   ]
  },
  {
   "cell_type": "code",
   "execution_count": 29,
   "id": "f252c1cb-2edf-4aae-bfe8-52611baaf648",
   "metadata": {},
   "outputs": [
    {
     "name": "stdout",
     "output_type": "stream",
     "text": [
      "                                        name  retail_price\n",
      "1434                       Millennium Falcon        799.99\n",
      "3425              Identity and Landscape Kit        789.99\n",
      "3426                         Connections Kit        754.99\n",
      "2065                              Death Star        499.99\n",
      "5944  Ultimate Collector's Millennium Falcon        499.99\n"
     ]
    }
   ],
   "source": [
    "top_5_expensive = data.nlargest(5, 'retail_price')\n",
    "print(top_5_expensive[['name', 'retail_price']])"
   ]
  },
  {
   "cell_type": "code",
   "execution_count": 31,
   "id": "29105294-d371-491e-bd66-bb8b440e018c",
   "metadata": {},
   "outputs": [
    {
     "name": "stdout",
     "output_type": "stream",
     "text": [
      "The theme with the most sets is: Duplo\n"
     ]
    }
   ],
   "source": [
    "theme_with_most_sets = data['theme'].value_counts().idxmax()\n",
    "print(f\"The theme with the most sets is: {theme_with_most_sets}\")"
   ]
  },
  {
   "cell_type": "code",
   "execution_count": 33,
   "id": "4d311b56-6fec-4f2b-8f25-4257c816c1b7",
   "metadata": {},
   "outputs": [
    {
     "data": {
      "image/png": "[encoded data removed]",
      "text/plain": [
       "<Figure size 1000x600 with 1 Axes>"
      ]
     },
     "metadata": {},
     "output_type": "display_data"
    }
   ],
   "source": [
    "import matplotlib.pyplot as plt\n",
    "\n",
    "plt.figure(figsize=(10, 6))\n",
    "plt.hist(data['retail_price'], bins=20, color='skyblue', edgecolor='black')\n",
    "plt.title('Distribution of LEGO Retail Prices')\n",
    "plt.xlabel('Price ($)')\n",
    "plt.ylabel('Frequency')\n",
    "plt.show()"
   ]
  },
  {
   "cell_type": "code",
   "execution_count": 35,
   "id": "7bd06dd4-b36f-4c8f-be55-321a403a3dbd",
   "metadata": {},
   "outputs": [],
   "source": [
    "filtered_data.to_csv('filtered_lego_sets.csv', index=False)"
   ]
  },
  {
   "cell_type": "code",
   "execution_count": null,
   "id": "8a66e9cd-c242-412e-a060-f0a724703a55",
   "metadata": {},
   "outputs": [],
   "source": []
  }
 ],
 "metadata": {
  "kernelspec": {
   "display_name": "Python 3 (ipykernel)",
   "language": "python",
   "name": "python3"
  },
  "language_info": {
   "codemirror_mode": {
    "name": "ipython",
    "version": 3
   },
   "file_extension": ".py",
   "mimetype": "text/x-python",
   "name": "python",
   "nbconvert_exporter": "python",
   "pygments_lexer": "ipython3",
   "version": "3.12.4"
  }
 },
 "nbformat": 4,
 "nbformat_minor": 5
}
